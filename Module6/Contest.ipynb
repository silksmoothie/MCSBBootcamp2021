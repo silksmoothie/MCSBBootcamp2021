{
 "cells": [
  {
   "cell_type": "code",
   "execution_count": 119,
   "metadata": {},
   "outputs": [
    {
     "data": {
      "text/plain": [
       "f (generic function with 1 method)"
      ]
     },
     "execution_count": 119,
     "metadata": {},
     "output_type": "execute_result"
    }
   ],
   "source": [
    "function f()\n",
    "    dt = 1;\n",
    "    nsample = 2000;\n",
    "    D = 10000;\n",
    "    L = 5000; \n",
    "    npcsize = 100;\n",
    "    npclocation = Int64[-L,0];\n",
    "    alpha = sqrt(2*D*dt);\n",
    "    tcapture = zeros(Int64,0);\n",
    "\n",
    "    for isample=1:nsample\n",
    "        x = Int64[L,0];\n",
    "\n",
    "        t=0;\n",
    "\n",
    "        while true\n",
    "            x=x+alpha*randn(Float32,(2,1));\n",
    "\n",
    "            if x[1]>L\n",
    "                x[1]=L;\n",
    "            elseif x[1]<-L\n",
    "                x[1]=-L;\n",
    "            end\n",
    "\n",
    "            if x[2]>L\n",
    "                x[2]=L;\n",
    "            elseif x[2]<-L\n",
    "                x[2]=-L;\n",
    "            end\n",
    "\n",
    "            if ((x[1]-npclocation[1]).^2 + (x[2]-npclocation[2]).^2) < npcsize.^2\n",
    "                #tcapture[isample]=t;\n",
    "                append!(tcapture,t)\n",
    "                break\n",
    "            end\n",
    "            t = t+dt;    \n",
    "        end\n",
    "    end\n",
    "end"
   ]
  },
  {
   "cell_type": "code",
   "execution_count": null,
   "metadata": {},
   "outputs": [],
   "source": []
  },
  {
   "cell_type": "code",
   "execution_count": 121,
   "metadata": {},
   "outputs": [
    {
     "name": "stdout",
     "output_type": "stream",
     "text": [
      "  6.977459 seconds (94.39 M allocations: 8.439 GiB, 14.98% gc time)\n"
     ]
    }
   ],
   "source": [
    "@time f()"
   ]
  },
  {
   "cell_type": "code",
   "execution_count": null,
   "metadata": {},
   "outputs": [],
   "source": []
  }
 ],
 "metadata": {
  "kernelspec": {
   "display_name": "Julia 1.6.2",
   "language": "julia",
   "name": "julia-1.6"
  },
  "language_info": {
   "file_extension": ".jl",
   "mimetype": "application/julia",
   "name": "julia",
   "version": "1.6.2"
  }
 },
 "nbformat": 4,
 "nbformat_minor": 2
}
